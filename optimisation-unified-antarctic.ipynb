{
 "cells": [
  {
   "cell_type": "code",
   "execution_count": null,
   "metadata": {},
   "outputs": [],
   "source": [
    "import os\n",
    "import glob\n",
    "import pandas as pd\n",
    "import numpy as np\n",
    "\n",
    "from smrt import make_snowpack, sensor_list, make_model\n",
    "from smrt.core.interface import make_interface\n",
    "\n",
    "import matplotlib.pyplot as plt\n",
    "%matplotlib widget\n",
    "\n",
    "#intake.output_notebook()\n",
    "%load_ext autoreload\n",
    "%autoreload 2\n",
    "\n",
    "from mw_antarctica.antarctic_snowpacks import expand_profile, compute_thickness\n",
    "from mw_antarctica.antarctic_snowpacks import AntarcticSnowpacks"
   ]
  },
  {
   "cell_type": "code",
   "execution_count": null,
   "metadata": {},
   "outputs": [],
   "source": [
    "sim = AntarcticSnowpacks()\n",
    "sim.database"
   ]
  },
  {
   "cell_type": "code",
   "execution_count": null,
   "metadata": {},
   "outputs": [],
   "source": [
    "freqs = [19, 37]"
   ]
  },
  {
   "cell_type": "code",
   "execution_count": null,
   "metadata": {},
   "outputs": [],
   "source": [
    "def run_model_amsr2(snowpacks, freqs):\n",
    "\n",
    "    model = make_model(\"iba\", \"dort\", rtsolver_options=dict(prune_deep_snowpack=8))\n",
    "\n",
    "    channels = list(map(str, freqs))\n",
    "    sensor = sensor_list.amsr2(channels)\n",
    "    results = model.run(sensor, snowpacks, parallel_computation=True)\n",
    "    results = results.to_dataframe(channel_axis=\"column\")\n",
    "    \n",
    "    results = results.unstack()\n",
    "    results.index = [\"_\".join(ind) for ind in results.index]  # collapse multiindex by joining names with _\n",
    "    return results\n",
    "\n",
    "def run_all_site(freqs, snowpack_params={}, microstructure=['TS']):\n",
    "    \n",
    "    model_results = []\n",
    "    for station in sim.sites:\n",
    "        \n",
    "        res = run_model_amsr2(sim.prepare_snowpacks(station,\n",
    "                                                 params=snowpack_params,\n",
    "                                                 microstructure=microstructure), set(freqs)-set([89]))\n",
    "        if 89 in freqs:\n",
    "            res2 = run_model_amsr2(sim.prepare_snowpacks(station,\n",
    "                                                                     params=snowpack_params,\n",
    "                                                                     microstructure=microstructure,\n",
    "                                                                     summer_simulation=True), [89])\n",
    "            res = pd.concat((res, res2), axis=1)\n",
    "            \n",
    "        model_results.append(res)\n",
    "    \n",
    "    res = pd.DataFrame(model_results, index=sim.sites)\n",
    "    return sim.database.join(res)"
   ]
  },
  {
   "cell_type": "code",
   "execution_count": null,
   "metadata": {},
   "outputs": [],
   "source": [
    "\n",
    "def compute_error(microstructure, polydispersity):\n",
    "\n",
    "    errors = []\n",
    "    for p in polydispersity:\n",
    "        database_with_result = run_all_site(freqs, microstructure=microstructure, snowpack_params={'polydispersity': p})\n",
    "\n",
    "        d = {'polydispersity': p}\n",
    "        \n",
    "        for freq in freqs:\n",
    "            d[f'rmse_{freq}'] = np.sqrt(((database_with_result[f'{freq}V'] - database_with_result[f'{freq}V_{microstructure}'])**2).mean())\n",
    "            d[f'abse_{freq}'] = (database_with_result[f'{freq}V'] - database_with_result[f'{freq}V_{microstructure}']).abs().mean()\n",
    "            d[f'bias_{freq}'] = (database_with_result[f'{freq}V'] - database_with_result[f'{freq}V_{microstructure}']).mean()\n",
    "            d[f'count_{freq}'] = database_with_result[f'{freq}V_{microstructure}'].dropna().count()\n",
    "        errors.append(d)\n",
    "\n",
    "    return pd.DataFrame(errors).set_index('polydispersity')\n",
    "\n",
    "polydispersity = np.arange(0.4, 0.95, 0.025)\n",
    "# polydispersity = np.arange(0.6, 0.65, 0.01) # to refine\n",
    "        \n",
    "lazzy = True\n",
    "update = False\n",
    "\n",
    "errors = {}\n",
    "for m in ['UTS', 'USEXP', 'USHS']:\n",
    "    \n",
    "    filename = f\"results/simulations-errors-antarctica-{m.lower()}.csv\"\n",
    "    file_exists = os.path.exists(filename)\n",
    "    \n",
    "    if (lazzy or update) and file_exists:\n",
    "        errors[m] = pd.read_csv(filename).set_index('polydispersity').drop_duplicates()\n",
    "    \n",
    "    if update or not file_exists:\n",
    "        err = compute_error(m, polydispersity)\n",
    "        if update and file_exists:\n",
    "            err = pd.concat((err, errors[m])).sort_index().drop_duplicates()\n",
    "        errors[m] = err\n",
    "\n",
    "        errors[m].to_csv(filename)\n",
    "        \n",
    "    errors[m]['rmse'] = np.sqrt((errors[m]['rmse_19']**2 + errors[m]['rmse_37']**2) / 2)\n",
    "    errors[m]['bias'] = (errors[m]['bias_19'] + errors[m]['bias_37']) / 2\n",
    "    \n",
    "    imin = errors[m]['rmse'].argmin()\n",
    "    print(m, errors[m].index[imin])\n",
    "    \n",
    "#errors"
   ]
  },
  {
   "cell_type": "code",
   "execution_count": null,
   "metadata": {},
   "outputs": [],
   "source": [
    "# Lowest RMSE"
   ]
  },
  {
   "cell_type": "code",
   "execution_count": null,
   "metadata": {},
   "outputs": [],
   "source": [
    "for m in errors:\n",
    "    Koptimal = errors[m]['rmse'].idxmin()\n",
    "    print(m, Koptimal, errors[m].loc[Koptimal]['rmse'])"
   ]
  },
  {
   "cell_type": "code",
   "execution_count": null,
   "metadata": {},
   "outputs": [],
   "source": [
    "f, axs = plt.subplots(1, 3, figsize=(6, 3), sharey=True)\n",
    "\n",
    "polydispersity = errors['UTS'].index\n",
    "\n",
    "axs[2].plot(polydispersity, errors['UTS']['rmse'], '-',)\n",
    "axs[2].plot(polydispersity, np.abs(errors['UTS']['bias']), '-',)\n",
    "#axs[2].set_xlabel('Repeat coefficient $q$')  # = d / 2\\\\pi \\\\xi$')\n",
    "#axs[2].set_ylabel('RMSE 19 and 37 GHz, V-pol (K)')\n",
    "axs[2].set_ylabel('Error (K) at 19 and 37 GHz ')\n",
    "axs[2].set_ylim((0, 25))\n",
    "axs[2].set_title('Teubner-Strey')\n",
    "\n",
    "axs[0].plot(polydispersity, errors['USEXP']['rmse'], '-', label='RMSE')\n",
    "axs[0].plot(polydispersity, np.abs(errors['USEXP']['bias']), '-', label='|bias|')\n",
    "axs[0].set_title('Scaled exponential')\n",
    "#axs[0].set_xlabel('Scaling coefficient $\\\\phi$')\n",
    "axs[0].legend()\n",
    "\n",
    "#axs[1].plot(errors['SHS'].index, errors['SHS']['rmse'], '-')\n",
    "#axs[1].plot(errors['SHS'].index, abs(errors['SHS']['bias']), '-')\n",
    "axs[1].plot(polydispersity, errors['USHS']['rmse'], '-')\n",
    "axs[1].plot(polydispersity, np.abs(errors['USHS']['bias']), '-')\n",
    "\n",
    "#axs[1].set_xlabel('Stickiness $\\\\tau$')\n",
    "axs[1].set_title('Sticky Hard Sphere')\n",
    "\n",
    "for i in [0, 1, 2]:\n",
    "    axs[i].grid(alpha=0.2)\n",
    "    axs[i].set_xlabel('Polydispersity $K$')\n",
    "\n",
    "\n",
    "f.tight_layout()\n",
    "plt.savefig(\"fig-global-optimisation-coefs.pdf\")"
   ]
  }
 ],
 "metadata": {
  "kernelspec": {
   "display_name": "Python (smrt)",
   "language": "python",
   "name": "smrt"
  },
  "language_info": {
   "codemirror_mode": {
    "name": "ipython",
    "version": 3
   },
   "file_extension": ".py",
   "mimetype": "text/x-python",
   "name": "python",
   "nbconvert_exporter": "python",
   "pygments_lexer": "ipython3",
   "version": "3.9.12"
  }
 },
 "nbformat": 4,
 "nbformat_minor": 4
}
